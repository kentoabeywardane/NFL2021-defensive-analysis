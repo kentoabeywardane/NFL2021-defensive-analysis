{
 "cells": [
  {
   "cell_type": "code",
   "execution_count": 1,
   "metadata": {},
   "outputs": [],
   "source": [
    "import numpy as np\n",
    "import matplotlib.pyplot as plt\n",
    "import pandas as pd\n",
    "import datetime\n",
    "import seaborn as sns\n",
    "sns.set_style('whitegrid')"
   ]
  },
  {
   "cell_type": "code",
   "execution_count": 2,
   "metadata": {},
   "outputs": [],
   "source": [
    "games = pd.read_csv('games.csv')\n",
    "players = pd.read_csv('players.csv')\n",
    "plays = pd.read_csv('plays.csv.zip')\n",
    "week1 = pd.read_csv('week1.csv.zip')\n",
    "tyler_data_frame = pd.read_csv('tyler_data_frame - tyler_data_frame.csv')"
   ]
  },
  {
   "cell_type": "code",
   "execution_count": 3,
   "metadata": {},
   "outputs": [],
   "source": [
    "# make 'gameClock' values to a datetime value from string\n",
    "plays['gameClock'] = pd.to_datetime(plays['gameClock'],format= '%H:%M:%S' ).dt.time\n",
    "\n",
    "def gameidtoT(i, col):\n",
    "    return games[games['gameId'] == i][col].values[0]\n",
    "\n",
    "plays['homeTeamAbbr'] = plays['gameId'].apply(gameidtoT, col='homeTeamAbbr')\n",
    "plays['visitorTeamAbbr'] = plays['gameId'].apply(gameidtoT, col='visitorTeamAbbr')\n",
    "\n",
    "winning_team_list = list()\n",
    "for i in range(0, len(plays)):\n",
    "    home_score = plays.loc[i, 'preSnapHomeScore']\n",
    "    away_score = plays.loc[i, 'preSnapVisitorScore']\n",
    "    home_team = plays.loc[i, 'homeTeamAbbr']\n",
    "    away_team = plays.loc[i, 'visitorTeamAbbr']\n",
    "    if home_score > away_score:\n",
    "        winning_team = home_team\n",
    "    elif away_score > home_score:\n",
    "        winning_team = away_team\n",
    "    else:\n",
    "        winning_team = 'Tied'\n",
    "    winning_team_list.append(winning_team)\n",
    "\n",
    "winning_team_array = np.array(winning_team_list)\n",
    "plays['TeamWinning'] = winning_team_array\n",
    "\n",
    "playsq4 = plays[plays['quarter'] == 4] # plays from the fourth quarter\n",
    "\n",
    "import datetime\n",
    "fourmin = datetime.time(4, 0, 0)\n",
    "playsq4_4min = playsq4[playsq4['gameClock'] <= fourmin]\n",
    "difference = abs(playsq4_4min['preSnapHomeScore'] - playsq4_4min['preSnapVisitorScore'])\n",
    "\n",
    "final = playsq4_4min[(difference <= 8) & (difference >=4)]\n",
    "\n",
    "final = final.drop(final[final['TeamWinning'] == final['possessionTeam']].index)\n",
    "final = final.reset_index(drop=True)\n",
    "\n",
    "teamWin = tyler_data_frame['TeamWin']\n",
    "def tylertoW(i):\n",
    "    return tyler_data_frame[tyler_data_frame['gameId'] == i]['TeamWin'].values[0]\n",
    "\n",
    "final['teamWin'] = final['gameId'].apply(tylertoW)\n",
    "\n",
    "final = final.set_index(['gameId','playId'])"
   ]
  },
  {
   "cell_type": "code",
   "execution_count": 4,
   "metadata": {},
   "outputs": [],
   "source": [
    "firstplayof4m = final.reset_index().set_index(['gameId']).groupby('gameId')['playId'].min()\n",
    "plays2 = plays.set_index(['gameId','playId'])"
   ]
  },
  {
   "cell_type": "code",
   "execution_count": 5,
   "metadata": {},
   "outputs": [],
   "source": [
    "final=final.reset_index()\n",
    "\n",
    "def heldorblown(i):\n",
    "    fpof = firstplayof4m[firstplayof4m.index == i].loc[i]\n",
    "    #firstrow = final.loc[(i, fpof)]\n",
    "    firstrow = final[(final['gameId'] == i) & (final['playId'] == fpof)]\n",
    "    if firstrow['TeamWinning'].values[0] == firstrow['teamWin'].values[0]:\n",
    "        return 'held'\n",
    "    else:\n",
    "        return 'blown'\n",
    "    \n",
    "final['heldOrBlown'] = final['gameId'].apply(heldorblown)\n",
    "\n",
    "final = final.set_index(['gameId','playId'])"
   ]
  },
  {
   "cell_type": "code",
   "execution_count": 6,
   "metadata": {},
   "outputs": [
    {
     "data": {
      "text/plain": [
       "[2018091603,\n",
       " 2018093002,\n",
       " 2018093004,\n",
       " 2018100701,\n",
       " 2018101401,\n",
       " 2018101412,\n",
       " 2018102109,\n",
       " 2018102803,\n",
       " 2018111800,\n",
       " 2018120912,\n",
       " 2018122310]"
      ]
     },
     "execution_count": 6,
     "metadata": {},
     "output_type": "execute_result"
    }
   ],
   "source": [
    "check = final.reset_index()\n",
    "gameIds = np.unique(check['gameId'])\n",
    "change_to_blown = []\n",
    "for i in range(0, 77):\n",
    "    count = 0\n",
    "    first_play = firstplayof4m.loc[gameIds[i]]\n",
    "    first_row = final.loc[(gameIds[i], first_play)]\n",
    "    team_winning_initially = first_row['TeamWinning']\n",
    "    plays_wanted = playsq4_4min[playsq4_4min['gameId'] == gameIds[i]]\n",
    "    index_of_plays_for_this_game = plays_wanted[plays_wanted['gameId'] ==  gameIds[i]]['playId'].values\n",
    "    index_of_plays_for_this_game = index_of_plays_for_this_game[index_of_plays_for_this_game >= first_play]\n",
    "    for j in range(0, len(index_of_plays_for_this_game)):\n",
    "        individual_play_row = plays_wanted.loc[plays_wanted['playId'] == index_of_plays_for_this_game[j]]\n",
    "        current_team_winning = individual_play_row['TeamWinning']\n",
    "        if current_team_winning.values[0] != team_winning_initially:\n",
    "            count = count + 1\n",
    "    if count > 0:\n",
    "        if team_winning_initially == first_row['teamWin']:\n",
    "            change_to_blown.append(gameIds[i])\n",
    "change_to_blown"
   ]
  },
  {
   "cell_type": "code",
   "execution_count": 7,
   "metadata": {},
   "outputs": [],
   "source": [
    "for i in change_to_blown:\n",
    "    final.loc[(i),'heldOrBlown'] = 'blown'"
   ]
  },
  {
   "cell_type": "code",
   "execution_count": 8,
   "metadata": {},
   "outputs": [
    {
     "data": {
      "text/html": [
       "<div>\n",
       "<style scoped>\n",
       "    .dataframe tbody tr th:only-of-type {\n",
       "        vertical-align: middle;\n",
       "    }\n",
       "\n",
       "    .dataframe tbody tr th {\n",
       "        vertical-align: top;\n",
       "    }\n",
       "\n",
       "    .dataframe thead th {\n",
       "        text-align: right;\n",
       "    }\n",
       "</style>\n",
       "<table border=\"1\" class=\"dataframe\">\n",
       "  <thead>\n",
       "    <tr style=\"text-align: right;\">\n",
       "      <th></th>\n",
       "      <th></th>\n",
       "      <th>playDescription</th>\n",
       "      <th>quarter</th>\n",
       "      <th>down</th>\n",
       "      <th>yardsToGo</th>\n",
       "      <th>possessionTeam</th>\n",
       "      <th>playType</th>\n",
       "      <th>yardlineSide</th>\n",
       "      <th>yardlineNumber</th>\n",
       "      <th>offenseFormation</th>\n",
       "      <th>personnelO</th>\n",
       "      <th>...</th>\n",
       "      <th>passResult</th>\n",
       "      <th>offensePlayResult</th>\n",
       "      <th>playResult</th>\n",
       "      <th>epa</th>\n",
       "      <th>isDefensivePI</th>\n",
       "      <th>homeTeamAbbr</th>\n",
       "      <th>visitorTeamAbbr</th>\n",
       "      <th>TeamWinning</th>\n",
       "      <th>teamWin</th>\n",
       "      <th>heldOrBlown</th>\n",
       "    </tr>\n",
       "    <tr>\n",
       "      <th>gameId</th>\n",
       "      <th>playId</th>\n",
       "      <th></th>\n",
       "      <th></th>\n",
       "      <th></th>\n",
       "      <th></th>\n",
       "      <th></th>\n",
       "      <th></th>\n",
       "      <th></th>\n",
       "      <th></th>\n",
       "      <th></th>\n",
       "      <th></th>\n",
       "      <th></th>\n",
       "      <th></th>\n",
       "      <th></th>\n",
       "      <th></th>\n",
       "      <th></th>\n",
       "      <th></th>\n",
       "      <th></th>\n",
       "      <th></th>\n",
       "      <th></th>\n",
       "      <th></th>\n",
       "      <th></th>\n",
       "    </tr>\n",
       "  </thead>\n",
       "  <tbody>\n",
       "    <tr>\n",
       "      <th rowspan=\"5\" valign=\"top\">2018090600</th>\n",
       "      <th>4142</th>\n",
       "      <td>(2:19) (Shotgun) M.Ryan pass short right to A....</td>\n",
       "      <td>4</td>\n",
       "      <td>1</td>\n",
       "      <td>10</td>\n",
       "      <td>ATL</td>\n",
       "      <td>play_type_pass</td>\n",
       "      <td>ATL</td>\n",
       "      <td>25</td>\n",
       "      <td>SHOTGUN</td>\n",
       "      <td>1 RB, 1 TE, 3 WR</td>\n",
       "      <td>...</td>\n",
       "      <td>C</td>\n",
       "      <td>6</td>\n",
       "      <td>6</td>\n",
       "      <td>-0.068448</td>\n",
       "      <td>False</td>\n",
       "      <td>PHI</td>\n",
       "      <td>ATL</td>\n",
       "      <td>PHI</td>\n",
       "      <td>PHI</td>\n",
       "      <td>held</td>\n",
       "    </tr>\n",
       "    <tr>\n",
       "      <th>4166</th>\n",
       "      <td>(2:01) (No Huddle, Shotgun) M.Ryan pass deep m...</td>\n",
       "      <td>4</td>\n",
       "      <td>2</td>\n",
       "      <td>4</td>\n",
       "      <td>ATL</td>\n",
       "      <td>play_type_pass</td>\n",
       "      <td>ATL</td>\n",
       "      <td>31</td>\n",
       "      <td>SHOTGUN</td>\n",
       "      <td>1 RB, 1 TE, 3 WR</td>\n",
       "      <td>...</td>\n",
       "      <td>C</td>\n",
       "      <td>36</td>\n",
       "      <td>36</td>\n",
       "      <td>1.948070</td>\n",
       "      <td>False</td>\n",
       "      <td>PHI</td>\n",
       "      <td>ATL</td>\n",
       "      <td>PHI</td>\n",
       "      <td>PHI</td>\n",
       "      <td>held</td>\n",
       "    </tr>\n",
       "    <tr>\n",
       "      <th>4207</th>\n",
       "      <td>(1:54) (Shotgun) M.Ryan pass incomplete short ...</td>\n",
       "      <td>4</td>\n",
       "      <td>1</td>\n",
       "      <td>10</td>\n",
       "      <td>ATL</td>\n",
       "      <td>play_type_pass</td>\n",
       "      <td>PHI</td>\n",
       "      <td>33</td>\n",
       "      <td>SHOTGUN</td>\n",
       "      <td>1 RB, 1 TE, 3 WR</td>\n",
       "      <td>...</td>\n",
       "      <td>I</td>\n",
       "      <td>0</td>\n",
       "      <td>0</td>\n",
       "      <td>-0.204607</td>\n",
       "      <td>False</td>\n",
       "      <td>PHI</td>\n",
       "      <td>ATL</td>\n",
       "      <td>PHI</td>\n",
       "      <td>PHI</td>\n",
       "      <td>held</td>\n",
       "    </tr>\n",
       "    <tr>\n",
       "      <th>4239</th>\n",
       "      <td>(1:50) (Shotgun) M.Ryan sacked at PHI 40 for -...</td>\n",
       "      <td>4</td>\n",
       "      <td>2</td>\n",
       "      <td>10</td>\n",
       "      <td>ATL</td>\n",
       "      <td>play_type_sack</td>\n",
       "      <td>PHI</td>\n",
       "      <td>33</td>\n",
       "      <td>SHOTGUN</td>\n",
       "      <td>1 RB, 1 TE, 3 WR</td>\n",
       "      <td>...</td>\n",
       "      <td>S</td>\n",
       "      <td>-7</td>\n",
       "      <td>-7</td>\n",
       "      <td>-0.982487</td>\n",
       "      <td>False</td>\n",
       "      <td>PHI</td>\n",
       "      <td>ATL</td>\n",
       "      <td>PHI</td>\n",
       "      <td>PHI</td>\n",
       "      <td>held</td>\n",
       "    </tr>\n",
       "    <tr>\n",
       "      <th>4258</th>\n",
       "      <td>(1:25) (No Huddle, Shotgun) M.Ryan pass deep l...</td>\n",
       "      <td>4</td>\n",
       "      <td>3</td>\n",
       "      <td>17</td>\n",
       "      <td>ATL</td>\n",
       "      <td>play_type_pass</td>\n",
       "      <td>PHI</td>\n",
       "      <td>40</td>\n",
       "      <td>SHOTGUN</td>\n",
       "      <td>1 RB, 1 TE, 3 WR</td>\n",
       "      <td>...</td>\n",
       "      <td>C</td>\n",
       "      <td>18</td>\n",
       "      <td>18</td>\n",
       "      <td>1.587344</td>\n",
       "      <td>False</td>\n",
       "      <td>PHI</td>\n",
       "      <td>ATL</td>\n",
       "      <td>PHI</td>\n",
       "      <td>PHI</td>\n",
       "      <td>held</td>\n",
       "    </tr>\n",
       "    <tr>\n",
       "      <th>...</th>\n",
       "      <th>...</th>\n",
       "      <td>...</td>\n",
       "      <td>...</td>\n",
       "      <td>...</td>\n",
       "      <td>...</td>\n",
       "      <td>...</td>\n",
       "      <td>...</td>\n",
       "      <td>...</td>\n",
       "      <td>...</td>\n",
       "      <td>...</td>\n",
       "      <td>...</td>\n",
       "      <td>...</td>\n",
       "      <td>...</td>\n",
       "      <td>...</td>\n",
       "      <td>...</td>\n",
       "      <td>...</td>\n",
       "      <td>...</td>\n",
       "      <td>...</td>\n",
       "      <td>...</td>\n",
       "      <td>...</td>\n",
       "      <td>...</td>\n",
       "      <td>...</td>\n",
       "    </tr>\n",
       "    <tr>\n",
       "      <th rowspan=\"4\" valign=\"top\">2018123008</th>\n",
       "      <th>4368</th>\n",
       "      <td>(1:34) (No Huddle, Shotgun) D.Prescott pass in...</td>\n",
       "      <td>4</td>\n",
       "      <td>1</td>\n",
       "      <td>10</td>\n",
       "      <td>DAL</td>\n",
       "      <td>play_type_pass</td>\n",
       "      <td>NYG</td>\n",
       "      <td>27</td>\n",
       "      <td>SHOTGUN</td>\n",
       "      <td>1 RB, 1 TE, 3 WR</td>\n",
       "      <td>...</td>\n",
       "      <td>I</td>\n",
       "      <td>0</td>\n",
       "      <td>0</td>\n",
       "      <td>-0.187455</td>\n",
       "      <td>False</td>\n",
       "      <td>NYG</td>\n",
       "      <td>DAL</td>\n",
       "      <td>NYG</td>\n",
       "      <td>DAL</td>\n",
       "      <td>blown</td>\n",
       "    </tr>\n",
       "    <tr>\n",
       "      <th>4390</th>\n",
       "      <td>(1:28) (Shotgun) D.Prescott pass incomplete sh...</td>\n",
       "      <td>4</td>\n",
       "      <td>2</td>\n",
       "      <td>10</td>\n",
       "      <td>DAL</td>\n",
       "      <td>play_type_pass</td>\n",
       "      <td>NYG</td>\n",
       "      <td>27</td>\n",
       "      <td>EMPTY</td>\n",
       "      <td>1 RB, 1 TE, 3 WR</td>\n",
       "      <td>...</td>\n",
       "      <td>I</td>\n",
       "      <td>0</td>\n",
       "      <td>0</td>\n",
       "      <td>-0.351109</td>\n",
       "      <td>False</td>\n",
       "      <td>NYG</td>\n",
       "      <td>DAL</td>\n",
       "      <td>NYG</td>\n",
       "      <td>DAL</td>\n",
       "      <td>blown</td>\n",
       "    </tr>\n",
       "    <tr>\n",
       "      <th>4412</th>\n",
       "      <td>(1:24) (Shotgun) D.Prescott pass incomplete sh...</td>\n",
       "      <td>4</td>\n",
       "      <td>3</td>\n",
       "      <td>10</td>\n",
       "      <td>DAL</td>\n",
       "      <td>play_type_pass</td>\n",
       "      <td>NYG</td>\n",
       "      <td>27</td>\n",
       "      <td>SHOTGUN</td>\n",
       "      <td>1 RB, 1 TE, 3 WR</td>\n",
       "      <td>...</td>\n",
       "      <td>I</td>\n",
       "      <td>0</td>\n",
       "      <td>0</td>\n",
       "      <td>-0.724839</td>\n",
       "      <td>False</td>\n",
       "      <td>NYG</td>\n",
       "      <td>DAL</td>\n",
       "      <td>NYG</td>\n",
       "      <td>DAL</td>\n",
       "      <td>blown</td>\n",
       "    </tr>\n",
       "    <tr>\n",
       "      <th>4457</th>\n",
       "      <td>(1:19) (Shotgun) D.Prescott pass incomplete de...</td>\n",
       "      <td>4</td>\n",
       "      <td>4</td>\n",
       "      <td>15</td>\n",
       "      <td>DAL</td>\n",
       "      <td>play_type_pass</td>\n",
       "      <td>NYG</td>\n",
       "      <td>32</td>\n",
       "      <td>SHOTGUN</td>\n",
       "      <td>1 RB, 1 TE, 3 WR</td>\n",
       "      <td>...</td>\n",
       "      <td>C</td>\n",
       "      <td>32</td>\n",
       "      <td>32</td>\n",
       "      <td>5.153582</td>\n",
       "      <td>False</td>\n",
       "      <td>NYG</td>\n",
       "      <td>DAL</td>\n",
       "      <td>NYG</td>\n",
       "      <td>DAL</td>\n",
       "      <td>blown</td>\n",
       "    </tr>\n",
       "    <tr>\n",
       "      <th>2018122201</th>\n",
       "      <th>3745</th>\n",
       "      <td>(2:54) (Shotgun) P.Rivers pass short left to A...</td>\n",
       "      <td>4</td>\n",
       "      <td>1</td>\n",
       "      <td>20</td>\n",
       "      <td>LAC</td>\n",
       "      <td>play_type_pass</td>\n",
       "      <td>BAL</td>\n",
       "      <td>49</td>\n",
       "      <td>SHOTGUN</td>\n",
       "      <td>1 RB, 1 TE, 3 WR</td>\n",
       "      <td>...</td>\n",
       "      <td>C</td>\n",
       "      <td>11</td>\n",
       "      <td>-51</td>\n",
       "      <td>-9.487679</td>\n",
       "      <td>False</td>\n",
       "      <td>LAC</td>\n",
       "      <td>BAL</td>\n",
       "      <td>BAL</td>\n",
       "      <td>BAL</td>\n",
       "      <td>held</td>\n",
       "    </tr>\n",
       "  </tbody>\n",
       "</table>\n",
       "<p>452 rows × 30 columns</p>\n",
       "</div>"
      ],
      "text/plain": [
       "                                                     playDescription  quarter  \\\n",
       "gameId     playId                                                               \n",
       "2018090600 4142    (2:19) (Shotgun) M.Ryan pass short right to A....        4   \n",
       "           4166    (2:01) (No Huddle, Shotgun) M.Ryan pass deep m...        4   \n",
       "           4207    (1:54) (Shotgun) M.Ryan pass incomplete short ...        4   \n",
       "           4239    (1:50) (Shotgun) M.Ryan sacked at PHI 40 for -...        4   \n",
       "           4258    (1:25) (No Huddle, Shotgun) M.Ryan pass deep l...        4   \n",
       "...                                                              ...      ...   \n",
       "2018123008 4368    (1:34) (No Huddle, Shotgun) D.Prescott pass in...        4   \n",
       "           4390    (1:28) (Shotgun) D.Prescott pass incomplete sh...        4   \n",
       "           4412    (1:24) (Shotgun) D.Prescott pass incomplete sh...        4   \n",
       "           4457    (1:19) (Shotgun) D.Prescott pass incomplete de...        4   \n",
       "2018122201 3745    (2:54) (Shotgun) P.Rivers pass short left to A...        4   \n",
       "\n",
       "                   down  yardsToGo possessionTeam        playType  \\\n",
       "gameId     playId                                                   \n",
       "2018090600 4142       1         10            ATL  play_type_pass   \n",
       "           4166       2          4            ATL  play_type_pass   \n",
       "           4207       1         10            ATL  play_type_pass   \n",
       "           4239       2         10            ATL  play_type_sack   \n",
       "           4258       3         17            ATL  play_type_pass   \n",
       "...                 ...        ...            ...             ...   \n",
       "2018123008 4368       1         10            DAL  play_type_pass   \n",
       "           4390       2         10            DAL  play_type_pass   \n",
       "           4412       3         10            DAL  play_type_pass   \n",
       "           4457       4         15            DAL  play_type_pass   \n",
       "2018122201 3745       1         20            LAC  play_type_pass   \n",
       "\n",
       "                  yardlineSide  yardlineNumber offenseFormation  \\\n",
       "gameId     playId                                                 \n",
       "2018090600 4142            ATL              25          SHOTGUN   \n",
       "           4166            ATL              31          SHOTGUN   \n",
       "           4207            PHI              33          SHOTGUN   \n",
       "           4239            PHI              33          SHOTGUN   \n",
       "           4258            PHI              40          SHOTGUN   \n",
       "...                        ...             ...              ...   \n",
       "2018123008 4368            NYG              27          SHOTGUN   \n",
       "           4390            NYG              27            EMPTY   \n",
       "           4412            NYG              27          SHOTGUN   \n",
       "           4457            NYG              32          SHOTGUN   \n",
       "2018122201 3745            BAL              49          SHOTGUN   \n",
       "\n",
       "                         personnelO  ...  passResult  offensePlayResult  \\\n",
       "gameId     playId                    ...                                  \n",
       "2018090600 4142    1 RB, 1 TE, 3 WR  ...           C                  6   \n",
       "           4166    1 RB, 1 TE, 3 WR  ...           C                 36   \n",
       "           4207    1 RB, 1 TE, 3 WR  ...           I                  0   \n",
       "           4239    1 RB, 1 TE, 3 WR  ...           S                 -7   \n",
       "           4258    1 RB, 1 TE, 3 WR  ...           C                 18   \n",
       "...                             ...  ...         ...                ...   \n",
       "2018123008 4368    1 RB, 1 TE, 3 WR  ...           I                  0   \n",
       "           4390    1 RB, 1 TE, 3 WR  ...           I                  0   \n",
       "           4412    1 RB, 1 TE, 3 WR  ...           I                  0   \n",
       "           4457    1 RB, 1 TE, 3 WR  ...           C                 32   \n",
       "2018122201 3745    1 RB, 1 TE, 3 WR  ...           C                 11   \n",
       "\n",
       "                  playResult       epa  isDefensivePI  homeTeamAbbr  \\\n",
       "gameId     playId                                                     \n",
       "2018090600 4142            6 -0.068448          False           PHI   \n",
       "           4166           36  1.948070          False           PHI   \n",
       "           4207            0 -0.204607          False           PHI   \n",
       "           4239           -7 -0.982487          False           PHI   \n",
       "           4258           18  1.587344          False           PHI   \n",
       "...                      ...       ...            ...           ...   \n",
       "2018123008 4368            0 -0.187455          False           NYG   \n",
       "           4390            0 -0.351109          False           NYG   \n",
       "           4412            0 -0.724839          False           NYG   \n",
       "           4457           32  5.153582          False           NYG   \n",
       "2018122201 3745          -51 -9.487679          False           LAC   \n",
       "\n",
       "                  visitorTeamAbbr  TeamWinning teamWin heldOrBlown  \n",
       "gameId     playId                                                   \n",
       "2018090600 4142               ATL          PHI     PHI        held  \n",
       "           4166               ATL          PHI     PHI        held  \n",
       "           4207               ATL          PHI     PHI        held  \n",
       "           4239               ATL          PHI     PHI        held  \n",
       "           4258               ATL          PHI     PHI        held  \n",
       "...                           ...          ...     ...         ...  \n",
       "2018123008 4368               DAL          NYG     DAL       blown  \n",
       "           4390               DAL          NYG     DAL       blown  \n",
       "           4412               DAL          NYG     DAL       blown  \n",
       "           4457               DAL          NYG     DAL       blown  \n",
       "2018122201 3745               BAL          BAL     BAL        held  \n",
       "\n",
       "[452 rows x 30 columns]"
      ]
     },
     "execution_count": 8,
     "metadata": {},
     "output_type": "execute_result"
    }
   ],
   "source": [
    "final"
   ]
  },
  {
   "cell_type": "code",
   "execution_count": 9,
   "metadata": {},
   "outputs": [
    {
     "data": {
      "text/plain": [
       "<matplotlib.axes._subplots.AxesSubplot at 0x7faeb58b7650>"
      ]
     },
     "execution_count": 9,
     "metadata": {},
     "output_type": "execute_result"
    },
    {
     "data": {
      "image/png": "[encoded data removed]",
      "text/plain": [
       "<Figure size 432x288 with 1 Axes>"
      ]
     },
     "metadata": {},
     "output_type": "display_data"
    }
   ],
   "source": [
    "sns.scatterplot('defendersInTheBox','epa',hue='heldOrBlown',data=final)"
   ]
  },
  {
   "cell_type": "code",
   "execution_count": 10,
   "metadata": {},
   "outputs": [
    {
     "data": {
      "text/plain": [
       "<matplotlib.axes._subplots.AxesSubplot at 0x7fae98976350>"
      ]
     },
     "execution_count": 10,
     "metadata": {},
     "output_type": "execute_result"
    },
    {
     "data": {
      "image/png": "[encoded data removed]",
      "text/plain": [
       "<Figure size 432x288 with 1 Axes>"
      ]
     },
     "metadata": {},
     "output_type": "display_data"
    }
   ],
   "source": [
    "sns.scatterplot('defendersInTheBox','offensePlayResult',hue='heldOrBlown',data=final)"
   ]
  },
  {
   "cell_type": "code",
   "execution_count": 11,
   "metadata": {},
   "outputs": [
    {
     "data": {
      "text/plain": [
       "<matplotlib.axes._subplots.AxesSubplot at 0x7fae98967e50>"
      ]
     },
     "execution_count": 11,
     "metadata": {},
     "output_type": "execute_result"
    },
    {
     "data": {
      "image/png": "[encoded data removed]",
      "text/plain": [
       "<Figure size 432x288 with 1 Axes>"
      ]
     },
     "metadata": {},
     "output_type": "display_data"
    }
   ],
   "source": [
    "sns.scatterplot('numberOfPassRushers','epa',hue='heldOrBlown',data=final)"
   ]
  },
  {
   "cell_type": "code",
   "execution_count": 12,
   "metadata": {},
   "outputs": [],
   "source": [
    "held = final[final['heldOrBlown'] == 'held'].reset_index()\n",
    "blown = final[final['heldOrBlown'] == 'blown'].reset_index()"
   ]
  },
  {
   "cell_type": "code",
   "execution_count": 13,
   "metadata": {},
   "outputs": [
    {
     "name": "stdout",
     "output_type": "stream",
     "text": [
      "3.9541079487887996\n",
      "4.121825396825397\n"
     ]
    }
   ],
   "source": [
    "# each index of the array reprensents number of pass rushers\n",
    "normal = final.reset_index()\n",
    "def percentOfPassRushersPerGame(gameid, df):\n",
    "    pass_rushers = np.array(df[df['gameId'] == gameid]['numberOfPassRushers'])\n",
    "    number_of_plays = len(pass_rushers)\n",
    "    pass_rush_list = []\n",
    "    for i in range(0, 8):\n",
    "        pass_rush_list.append(len(pass_rushers[pass_rushers == i]) / number_of_plays)\n",
    "    return np.array(pass_rush_list)\n",
    "\n",
    "def percentOfPassRushersByDataFrame(dataframe, df):\n",
    "    final_array = np.zeros(8)\n",
    "    game_ids = np.unique(dataframe['gameId'])\n",
    "    for i in range(0, len(game_ids)):\n",
    "        final_array = final_array + percentOfPassRushersPerGame(game_ids[i], df)\n",
    "    final_array = final_array / len(game_ids)\n",
    "    return final_array\n",
    "\n",
    "held_lead_pass_rushers = pd.Series(percentOfPassRushersByDataFrame(held, normal))\n",
    "blown_lead_pass_rushers = pd.Series(percentOfPassRushersByDataFrame(blown, normal))\n",
    "\n",
    "average_held_lead_pass_rushers = 0\n",
    "for i in range(0, 8):\n",
    "    average_held_lead_pass_rushers = average_held_lead_pass_rushers + (held_lead_pass_rushers[i] * i)\n",
    "print(average_held_lead_pass_rushers)\n",
    "\n",
    "average_blown_lead_pass_rushers = 0\n",
    "for i in range(0, 8):\n",
    "    average_blown_lead_pass_rushers = average_blown_lead_pass_rushers + (blown_lead_pass_rushers[i] * i)\n",
    "print(average_blown_lead_pass_rushers)"
   ]
  },
  {
   "cell_type": "code",
   "execution_count": 14,
   "metadata": {},
   "outputs": [
    {
     "data": {
      "text/plain": [
       "<matplotlib.axes._subplots.AxesSubplot at 0x7fae98d4dbd0>"
      ]
     },
     "execution_count": 14,
     "metadata": {},
     "output_type": "execute_result"
    },
    {
     "data": {
      "image/png": "[encoded data removed]",
      "text/plain": [
       "<Figure size 432x288 with 1 Axes>"
      ]
     },
     "metadata": {},
     "output_type": "display_data"
    }
   ],
   "source": [
    "sns.scatterplot(x=np.arange(0,8),y=held_lead_pass_rushers)\n",
    "sns.scatterplot(x=np.arange(0,8),y=blown_lead_pass_rushers)"
   ]
  },
  {
   "cell_type": "code",
   "execution_count": 15,
   "metadata": {},
   "outputs": [
    {
     "name": "stderr",
     "output_type": "stream",
     "text": [
      "/Users/kentoabeywardane/opt/anaconda3/lib/python3.7/site-packages/pandas/core/generic.py:3936: PerformanceWarning: dropping on a non-lexsorted multi-index without a level parameter may impact performance.\n",
      "  obj = obj._drop_axis(labels, axis, level=level, errors=errors)\n"
     ]
    }
   ],
   "source": [
    "antifinal_plays = plays.set_index(['gameId','playId'])\n",
    "for i in final.index.get_level_values(0).unique():\n",
    "    # drop all games that are represented in df=final\n",
    "    antifinal_plays.drop(index=i,axis=0,level=0,inplace=True)\n",
    "for i in antifinal_plays.index.get_level_values(0).unique():\n",
    "    # drop all games represented in df=antifinal from plays2\n",
    "    # this results in a df that has all the plays for games represented in df=final\n",
    "    plays2.drop(index=i,axis=0,inplace=True)\n",
    "for i in final.index.values:\n",
    "    # drop (gameid,playid) tuples that are found in final (plays2 = every play not in df=final)\n",
    "    plays2.drop(index=i,axis=0,inplace=True)\n",
    "    \n",
    "plays2.reset_index(inplace=True)\n",
    "# add column w the team that won to df\n",
    "plays2['teamWin'] = plays2['gameId'].apply(tylertoW)\n",
    "\n",
    "# make a df of all unique gameId,possessionTeam combinations from final\n",
    "# this gets us the defensive possesions of the team that was winning from final\n",
    "unique_gamepos = list(dict.fromkeys(list(zip(final.reset_index()['gameId'], final['possessionTeam']))))\n",
    "unique_gameposdf = pd.DataFrame(unique_gamepos).set_index(0)\n",
    "for i in np.arange(0,len(plays2)):\n",
    "    # drop the row if the team on defense is not the same as the one in final \n",
    "    if plays2.loc[i]['possessionTeam'] != unique_gameposdf.loc[plays2.loc[i]['gameId']].values[0]:\n",
    "        plays2.drop(index=i,axis=0,inplace=True)\n",
    "plays2.reset_index(drop=True,inplace=True)"
   ]
  },
  {
   "cell_type": "code",
   "execution_count": 16,
   "metadata": {},
   "outputs": [],
   "source": [
    "# make a df of all unique gameId,held/blown combinations from final\n",
    "gameid_heldblown = pd.DataFrame(list(dict.fromkeys(list(zip(final.reset_index()['gameId'], final['heldOrBlown']))))).set_index(0)\n",
    "\n",
    "def gameidtoHB(i):\n",
    "    \"\"\"input a gameId and return whether the leading team held or blew the lead\"\"\"\n",
    "    return gameid_heldblown.loc[i].values[0]\n",
    "\n",
    "plays2['heldOrBlown'] = plays2['gameId'].apply(gameidtoHB)"
   ]
  },
  {
   "cell_type": "code",
   "execution_count": 17,
   "metadata": {},
   "outputs": [
    {
     "name": "stdout",
     "output_type": "stream",
     "text": [
      "4.070694699662195\n",
      "4.095852870758585\n"
     ]
    }
   ],
   "source": [
    "# get df's only where teams held or blew the lead\n",
    "held2 = plays2[plays2['heldOrBlown'] == 'held'].reset_index()\n",
    "blown2 = plays2[plays2['heldOrBlown'] == 'blown'].reset_index()\n",
    "\n",
    "# use percentOfPassRushersByDataFrame function\n",
    "held_lead_pass_rushers2 = pd.Series(percentOfPassRushersByDataFrame(held2, plays2))\n",
    "blown_lead_pass_rushers2 = pd.Series(percentOfPassRushersByDataFrame(blown2, plays2))\n",
    "\n",
    "# get average # of passrushers for teams that held the lead prior to a lead with under 4 min to go\n",
    "average_held_lead_pass_rushers2 = 0\n",
    "for i in range(0, 8):\n",
    "    average_held_lead_pass_rushers2 = average_held_lead_pass_rushers2 + (held_lead_pass_rushers2[i] * i)\n",
    "print(average_held_lead_pass_rushers2)\n",
    "\n",
    "# get average # of passrushers for teams that blew the lead prior to a lead with under 4 min to go\n",
    "average_blown_lead_pass_rushers2 = 0\n",
    "for i in range(0, 8):\n",
    "    average_blown_lead_pass_rushers2 = average_blown_lead_pass_rushers2 + (blown_lead_pass_rushers2[i] * i)\n",
    "print(average_blown_lead_pass_rushers2)"
   ]
  },
  {
   "cell_type": "code",
   "execution_count": 18,
   "metadata": {},
   "outputs": [
    {
     "data": {
      "text/plain": [
       "<matplotlib.axes._subplots.AxesSubplot at 0x7fae995e5bd0>"
      ]
     },
     "execution_count": 18,
     "metadata": {},
     "output_type": "execute_result"
    },
    {
     "data": {
      "image/png": "[encoded data removed]",
      "text/plain": [
       "<Figure size 432x288 with 1 Axes>"
      ]
     },
     "metadata": {},
     "output_type": "display_data"
    }
   ],
   "source": [
    "sns.scatterplot(x=np.arange(0,8),y=held_lead_pass_rushers2)\n",
    "sns.scatterplot(x=np.arange(0,8),y=blown_lead_pass_rushers2)"
   ]
  },
  {
   "cell_type": "code",
   "execution_count": 19,
   "metadata": {},
   "outputs": [
    {
     "data": {
      "text/plain": [
       "0   -0.030871\n",
       "1    0.002947\n",
       "2    0.005724\n",
       "3   -0.031258\n",
       "4   -0.084940\n",
       "5    0.059780\n",
       "6    0.032062\n",
       "7    0.006351\n",
       "dtype: float64"
      ]
     },
     "execution_count": 19,
     "metadata": {},
     "output_type": "execute_result"
    }
   ],
   "source": [
    "held_lead_pass_rushers2 - held_lead_pass_rushers"
   ]
  },
  {
   "cell_type": "code",
   "execution_count": 39,
   "metadata": {},
   "outputs": [],
   "source": [
    "held_changedf = pd.concat([held_lead_pass_rushers2, \n",
    "                           held_lead_pass_rushers, \n",
    "                           held_lead_pass_rushers-held_lead_pass_rushers2], axis=1)\n",
    "blown_changedf = pd.concat([blown_lead_pass_rushers2, \n",
    "                            blown_lead_pass_rushers, \n",
    "                            blown_lead_pass_rushers-blown_lead_pass_rushers2], axis=1)"
   ]
  },
  {
   "cell_type": "code",
   "execution_count": 40,
   "metadata": {},
   "outputs": [],
   "source": [
    "held_changedf.rename(columns={0:'before',1:'after',2:'change'},inplace=True)\n",
    "blown_changedf.rename(columns={0:'before',1:'after',2:'change'},inplace=True)\n",
    "held_changedf.reset_index(inplace=True)\n",
    "blown_changedf.reset_index(inplace=True)"
   ]
  },
  {
   "cell_type": "code",
   "execution_count": 81,
   "metadata": {},
   "outputs": [
    {
     "data": {
      "image/png": "[encoded data removed]",
      "text/plain": [
       "<Figure size 720x360 with 1 Axes>"
      ]
     },
     "metadata": {},
     "output_type": "display_data"
    }
   ],
   "source": [
    "ax = plt.figure(figsize=(10,5))\n",
    "\n",
    "#add start points\n",
    "ax = sns.stripplot(data=held_changedf, \n",
    "                   x='before', \n",
    "                   y='index', \n",
    "                   orient='h', \n",
    "                   order=held_changedf['index'], \n",
    "                   size=0, \n",
    "                   color='black')\n",
    "\n",
    "#define arrows\n",
    "arrow_starts = held_changedf['before'].values\n",
    "arrow_lengths = held_changedf['change'].values\n",
    "\n",
    "#add arrows to plot\n",
    "for i, index in enumerate(held_changedf['index']):\n",
    "    ax.arrow(arrow_starts[i],        #x start point\n",
    "             i,                      #y start point\n",
    "             arrow_lengths[i],       #change in x \n",
    "             0,                      #change in y\n",
    "             head_width=0.1,         #arrow head width\n",
    "             head_length=abs(arrow_lengths[i]/2),        #arrow head length\n",
    "             width=0.03,              #arrow stem width\n",
    "             fc='black',             #arrow fill color\n",
    "             ec='black')             #arrow edge color\n",
    "    \n",
    "#add start points\n",
    "ax = sns.stripplot(data=blown_changedf, \n",
    "                   x='before', \n",
    "                   y='index', \n",
    "                   orient='h', \n",
    "                   order=blown_changedf['index'], \n",
    "                   size=0, \n",
    "                   color='red')\n",
    "\n",
    "#define arrows\n",
    "arrow_starts2 = blown_changedf['before'].values\n",
    "arrow_lengths2 = blown_changedf['change'].values\n",
    "\n",
    "#add arrows to plot\n",
    "for i, index in enumerate(blown_changedf['index']):\n",
    "    ax.arrow(arrow_starts2[i],        #x start point\n",
    "             i,                      #y start point\n",
    "             arrow_lengths2[i],       #change in x \n",
    "             0,                      #change in y\n",
    "             head_width=0.1,         #arrow head width\n",
    "             head_length=abs(arrow_lengths[i]/2),        #arrow head length\n",
    "             width=0.03,              #arrow stem width\n",
    "             fc=(0,0,0,0),             #arrow fill color\n",
    "             ec='red')             #arrow edge color\n",
    "\n",
    "    \n",
    "#format plot\n",
    "ax.set_title('Fraction of pass rusher numbers before vs. after',fontsize=20)   #add title\n",
    "ax.axvline(x=0, color='0.9', ls='--', lw=2, zorder=0) #add line at x=0\n",
    "ax.grid(axis='y', color='0.9')                        #add a light grid\n",
    "ax.set_xlim(-0.3,0.3)                                 #set x axis limits\n",
    "ax.set_xlabel('average fraction',fontsize=20)                     #label the x axis\n",
    "ax.set_ylabel('Number of Pass Rushers',fontsize=20)               #label the y axis\n",
    "sns.despine(left=True, bottom=True)                   #remove axes"
   ]
  },
  {
   "cell_type": "code",
   "execution_count": null,
   "metadata": {},
   "outputs": [],
   "source": []
  }
 ],
 "metadata": {
  "kernelspec": {
   "display_name": "Python 3",
   "language": "python",
   "name": "python3"
  },
  "language_info": {
   "codemirror_mode": {
    "name": "ipython",
    "version": 3
   },
   "file_extension": ".py",
   "mimetype": "text/x-python",
   "name": "python",
   "nbconvert_exporter": "python",
   "pygments_lexer": "ipython3",
   "version": "3.7.6"
  }
 },
 "nbformat": 4,
 "nbformat_minor": 4
}
