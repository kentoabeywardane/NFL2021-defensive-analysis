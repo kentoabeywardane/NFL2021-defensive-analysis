{
 "cells": [
  {
   "cell_type": "markdown",
   "metadata": {
    "id": "hdwSvgRI1MVp",
    "papermill": {
     "duration": 0.021884,
     "end_time": "2021-01-05T19:25:58.902890",
     "exception": false,
     "start_time": "2021-01-05T19:25:58.881006",
     "status": "completed"
    },
    "tags": []
   },
   "source": [
    "# **The Art of Holding a Lead** \n",
    "##### By Kento Abeywardane and Matthew Paull"
   ]
  },
  {
   "cell_type": "markdown",
   "metadata": {
    "id": "rhoiBA5wrjJo",
    "papermill": {
     "duration": 0.020428,
     "end_time": "2021-01-05T19:25:58.945586",
     "exception": false,
     "start_time": "2021-01-05T19:25:58.925158",
     "status": "completed"
    },
    "tags": []
   },
   "source": [
    "## **Overview**\n",
    "#### Our objective was to analyze defensive trends towards the end of the game. Specifically we thought it would be interesting to look at situations where a team is leading by 4-8 points with 4 minutes or less left in the fourth quarter. Our goal was to find defensive trends that contributed to a win. \n",
    "#### We split up the data between the teams that held their 4-8 point lead to win the game and the teams that blew the lead to lose the game. Then looking at the number of pass rushers from both situations we found that the teams who held their lead used an average of 3.95 pass rushers during their lead within the last 4 minutes, while the teams that blew the lead used an average of 4.12 pass rushers. \n",
    "#### When comparing the same teams defense from the rest of the game we found the average number of pass rushers before 4 minutes left was 4.07 for the teams that held their lead, and 4.1 for the the teams that blew their lead. While these are essentually equal, it is interesting to see that the teams who blew their lead tended to slightly increase their pass rush, while the teams who kept their lead to win tended to slightly decrease their pass rush. We found a similar trend for the number of defenders in the box as well.\n",
    "#### Next we ran a two-sample T test on the number of pass rushers for the teams who held and blew their leads with under 4 minutes left in the game and got a P-value of 0.17. Since this is a very specific situation we only found 77 games that met our criteria, therefore if this same analysis was run over several seasons to gather more data it might be possible to find data with significance. \n",
    "#### Based off of our analysis, we would reccomend to teams who are leading by 4-8 points towards the end of the game that they should tend towards a consevative pass rush to win the game. "
   ]
  },
  {
   "cell_type": "markdown",
   "metadata": {
    "id": "t4a_BRnXM95T",
    "papermill": {
     "duration": 0.020824,
     "end_time": "2021-01-05T19:25:58.986893",
     "exception": false,
     "start_time": "2021-01-05T19:25:58.966069",
     "status": "completed"
    },
    "tags": []
   },
   "source": [
    "## **Import Libraries**"
   ]
  },
  {
   "cell_type": "code",
   "execution_count": 1,
   "metadata": {
    "execution": {
     "iopub.execute_input": "2021-01-05T19:25:59.037862Z",
     "iopub.status.busy": "2021-01-05T19:25:59.037139Z",
     "iopub.status.idle": "2021-01-05T19:26:00.329727Z",
     "shell.execute_reply": "2021-01-05T19:26:00.329031Z"
    },
    "id": "ikuhFup8CDm-",
    "outputId": "5c19e6cb-aaba-4b63-f67b-2ddbec6ad8eb",
    "papermill": {
     "duration": 1.320933,
     "end_time": "2021-01-05T19:26:00.329856",
     "exception": false,
     "start_time": "2021-01-05T19:25:59.008923",
     "status": "completed"
    },
    "tags": []
   },
   "outputs": [],
   "source": [
    "import numpy as np\n",
    "import matplotlib.pyplot as plt\n",
    "import pandas as pd\n",
    "import seaborn as sns\n",
    "from scipy import stats\n",
    "sns.set_style('whitegrid')"
   ]
  },
  {
   "cell_type": "markdown",
   "metadata": {
    "id": "xyAGig8o5Uct",
    "papermill": {
     "duration": 0.020488,
     "end_time": "2021-01-05T19:26:00.371664",
     "exception": false,
     "start_time": "2021-01-05T19:26:00.351176",
     "status": "completed"
    },
    "tags": []
   },
   "source": [
    "## **Import Games and Plays Dataframes**\n",
    "\n"
   ]
  },
  {
   "cell_type": "code",
   "execution_count": 2,
   "metadata": {
    "execution": {
     "iopub.execute_input": "2021-01-05T19:26:00.421537Z",
     "iopub.status.busy": "2021-01-05T19:26:00.420806Z",
     "iopub.status.idle": "2021-01-05T19:26:00.627823Z",
     "shell.execute_reply": "2021-01-05T19:26:00.627197Z"
    },
    "id": "ifZd4DK_KTVs",
    "papermill": {
     "duration": 0.234949,
     "end_time": "2021-01-05T19:26:00.627947",
     "exception": false,
     "start_time": "2021-01-05T19:26:00.392998",
     "status": "completed"
    },
    "tags": []
   },
   "outputs": [],
   "source": [
    "games = pd.read_csv('games.csv')\n",
    "plays = pd.read_csv('plays.csv.zip')"
   ]
  },
  {
   "cell_type": "markdown",
   "metadata": {
    "id": "w16snmaF5sqM",
    "papermill": {
     "duration": 0.020577,
     "end_time": "2021-01-05T19:26:00.670002",
     "exception": false,
     "start_time": "2021-01-05T19:26:00.649425",
     "status": "completed"
    },
    "tags": []
   },
   "source": [
    "## **Data Cleaning**\n",
    "#### Create a new Dataframe (final) from 'Plays' that has all of the plays from 4 minutes or less in the 4th quarter, and where the score differential is within 4-8 points"
   ]
  },
  {
   "cell_type": "code",
   "execution_count": 3,
   "metadata": {
    "execution": {
     "iopub.execute_input": "2021-01-05T19:26:00.834061Z",
     "iopub.status.busy": "2021-01-05T19:26:00.816194Z",
     "iopub.status.idle": "2021-01-05T19:26:22.642166Z",
     "shell.execute_reply": "2021-01-05T19:26:22.641471Z"
    },
    "id": "P8J-hd6AsWmA",
    "papermill": {
     "duration": 21.95125,
     "end_time": "2021-01-05T19:26:22.642290",
     "exception": false,
     "start_time": "2021-01-05T19:26:00.691040",
     "status": "completed"
    },
    "tags": []
   },
   "outputs": [],
   "source": [
    "# make 'gameClock' values to a datetime value from string\n",
    "plays['gameClock'] = pd.to_datetime(plays['gameClock'],format= '%H:%M:%S' ).dt.time\n",
    "\n",
    "# Add the Team Names into plays\n",
    "def gameidtoT(i, col):\n",
    "    return games[games['gameId'] == i][col].values[0]\n",
    "\n",
    "plays['homeTeamAbbr'] = plays['gameId'].apply(gameidtoT, col='homeTeamAbbr')\n",
    "plays['visitorTeamAbbr'] = plays['gameId'].apply(gameidtoT, col='visitorTeamAbbr')\n",
    "\n",
    "# Add the team name thats leading for each play in plays\n",
    "winning_team_list = list()\n",
    "for i in range(0, len(plays)):\n",
    "    home_score = plays.loc[i, 'preSnapHomeScore']\n",
    "    away_score = plays.loc[i, 'preSnapVisitorScore']\n",
    "    home_team = plays.loc[i, 'homeTeamAbbr']\n",
    "    away_team = plays.loc[i, 'visitorTeamAbbr']\n",
    "    if home_score > away_score:\n",
    "        winning_team = home_team\n",
    "    elif away_score > home_score:\n",
    "        winning_team = away_team\n",
    "    else:\n",
    "        winning_team = 'Tied'\n",
    "    winning_team_list.append(winning_team)\n",
    "\n",
    "winning_team_array = np.array(winning_team_list)\n",
    "plays['TeamWinning'] = winning_team_array\n",
    "\n",
    "playsq4 = plays[plays['quarter'] == 4] # plays from the fourth quarter\n",
    "\n",
    "import datetime\n",
    "fourmin = datetime.time(4, 0, 0)\n",
    "playsq4_4min = playsq4[playsq4['gameClock'] <= fourmin]\n",
    "difference = abs(playsq4_4min['preSnapHomeScore'] - playsq4_4min['preSnapVisitorScore'])\n",
    "\n",
    "# Set final to be the data frame with all plays where the score is in [4, 8] and there is <= 4 min left in the game\n",
    "final = playsq4_4min[(difference <= 8) & (difference >=4)]"
   ]
  },
  {
   "cell_type": "markdown",
   "metadata": {
    "id": "ldollYDE6Co8",
    "papermill": {
     "duration": 0.020587,
     "end_time": "2021-01-05T19:26:22.683813",
     "exception": false,
     "start_time": "2021-01-05T19:26:22.663226",
     "status": "completed"
    },
    "tags": []
   },
   "source": [
    "#### Drop the plays where the winning team has the ball (resulting in a dataframe where the winning team is on defense)"
   ]
  },
  {
   "cell_type": "code",
   "execution_count": 4,
   "metadata": {
    "execution": {
     "iopub.execute_input": "2021-01-05T19:26:22.736081Z",
     "iopub.status.busy": "2021-01-05T19:26:22.734955Z",
     "iopub.status.idle": "2021-01-05T19:26:22.742615Z",
     "shell.execute_reply": "2021-01-05T19:26:22.741906Z"
    },
    "id": "2aOC9Ulor2EI",
    "papermill": {
     "duration": 0.038017,
     "end_time": "2021-01-05T19:26:22.742734",
     "exception": false,
     "start_time": "2021-01-05T19:26:22.704717",
     "status": "completed"
    },
    "tags": []
   },
   "outputs": [],
   "source": [
    "final = final.drop(final[final['TeamWinning'] == final['possessionTeam']].index)\n",
    "final = final.reset_index(drop=True)\n",
    "final = final.set_index(['gameId','playId'])"
   ]
  },
  {
   "cell_type": "markdown",
   "metadata": {
    "id": "QxO9Ns4N6XnG",
    "papermill": {
     "duration": 0.021417,
     "end_time": "2021-01-05T19:26:22.786237",
     "exception": false,
     "start_time": "2021-01-05T19:26:22.764820",
     "status": "completed"
    },
    "tags": []
   },
   "source": [
    "#### Since there was no data on who won each game, we checked each of the 77 games in final for the winner. This data was collected in an excel sheet which we read into Google Collab (finalscore)\n",
    "#### Add a column (teamWin) to final which represents the winner of each game"
   ]
  },
  {
   "cell_type": "code",
   "execution_count": 5,
   "metadata": {
    "execution": {
     "iopub.execute_input": "2021-01-05T19:26:22.832522Z",
     "iopub.status.busy": "2021-01-05T19:26:22.831695Z",
     "iopub.status.idle": "2021-01-05T19:26:23.097611Z",
     "shell.execute_reply": "2021-01-05T19:26:23.096826Z"
    },
    "id": "Z3egjfriZXRm",
    "papermill": {
     "duration": 0.290344,
     "end_time": "2021-01-05T19:26:23.097742",
     "exception": false,
     "start_time": "2021-01-05T19:26:22.807398",
     "status": "completed"
    },
    "tags": []
   },
   "outputs": [],
   "source": [
    "finalscore = pd.read_csv('finalscore.csv')\n",
    "teamWin = finalscore['TeamWin']\n",
    "\n",
    "# Add teamWin as a collumn in final\n",
    "final = final.reset_index()\n",
    "def finalscoretoW(i):\n",
    "    return finalscore[finalscore['gameId'] == i]['TeamWin'].values[0]\n",
    "\n",
    "final['teamWin'] = final['gameId'].apply(finalscoretoW)"
   ]
  },
  {
   "cell_type": "markdown",
   "metadata": {
    "id": "zIddkgay6ki_",
    "papermill": {
     "duration": 0.020967,
     "end_time": "2021-01-05T19:26:23.141184",
     "exception": false,
     "start_time": "2021-01-05T19:26:23.120217",
     "status": "completed"
    },
    "tags": []
   },
   "source": [
    "#### Add a column (heldOrBlown) to final which signifies whether the team that was winning by 4-8 points originally held on to their lead or blew it"
   ]
  },
  {
   "cell_type": "code",
   "execution_count": 6,
   "metadata": {
    "execution": {
     "iopub.execute_input": "2021-01-05T19:26:23.195534Z",
     "iopub.status.busy": "2021-01-05T19:26:23.194456Z",
     "iopub.status.idle": "2021-01-05T19:26:23.764405Z",
     "shell.execute_reply": "2021-01-05T19:26:23.763631Z"
    },
    "id": "X7hoKOpX6Qgg",
    "papermill": {
     "duration": 0.601008,
     "end_time": "2021-01-05T19:26:23.764533",
     "exception": false,
     "start_time": "2021-01-05T19:26:23.163525",
     "status": "completed"
    },
    "tags": []
   },
   "outputs": [],
   "source": [
    "# The first play of each game in final\n",
    "firstplayof4m = final.reset_index().set_index(['gameId']).groupby('gameId')['playId'].min()\n",
    "\n",
    "# See if the winning team going into 4 minutes held or blew their lead\n",
    "def heldorblown(i):\n",
    "    fpof = firstplayof4m[firstplayof4m.index == i].loc[i]\n",
    "    #firstrow = final.loc[(i, fpof)]\n",
    "    firstrow = final[(final['gameId'] == i) & (final['playId'] == fpof)]\n",
    "    if firstrow['TeamWinning'].values[0] == firstrow['teamWin'].values[0]:\n",
    "        return 'held'\n",
    "    else:\n",
    "        return 'blown'\n",
    "    \n",
    "final['heldOrBlown'] = final['gameId'].apply(heldorblown)\n",
    "\n",
    "final = final.set_index(['gameId','playId'])"
   ]
  },
  {
   "cell_type": "markdown",
   "metadata": {
    "id": "nm9MNlCs63Ji",
    "papermill": {
     "duration": 0.020981,
     "end_time": "2021-01-05T19:26:23.807442",
     "exception": false,
     "start_time": "2021-01-05T19:26:23.786461",
     "status": "completed"
    },
    "tags": []
   },
   "source": [
    "#### Identify situations where the initial winning team blew the lead, but then scored again to win (This should count as a blown lead from the defensive perspective). Switch to blown in the heldOrBlown column"
   ]
  },
  {
   "cell_type": "code",
   "execution_count": 7,
   "metadata": {
    "execution": {
     "iopub.execute_input": "2021-01-05T19:26:23.865921Z",
     "iopub.status.busy": "2021-01-05T19:26:23.863384Z",
     "iopub.status.idle": "2021-01-05T19:26:24.540920Z",
     "shell.execute_reply": "2021-01-05T19:26:24.540356Z"
    },
    "id": "UsN8quKydTgZ",
    "papermill": {
     "duration": 0.712375,
     "end_time": "2021-01-05T19:26:24.541067",
     "exception": false,
     "start_time": "2021-01-05T19:26:23.828692",
     "status": "completed"
    },
    "tags": []
   },
   "outputs": [],
   "source": [
    "check = final.reset_index()\n",
    "gameIds = np.unique(check['gameId'])\n",
    "change_to_blown = []\n",
    "for i in range(0, 77): # 77 games\n",
    "    count = 0\n",
    "    first_play = firstplayof4m.loc[gameIds[i]]\n",
    "    first_row = final.loc[(gameIds[i], first_play)]\n",
    "    team_winning_initially = first_row['TeamWinning']\n",
    "    plays_wanted = playsq4_4min[playsq4_4min['gameId'] == gameIds[i]]\n",
    "    index_of_plays_for_this_game = plays_wanted[plays_wanted['gameId'] ==  gameIds[i]]['playId'].values\n",
    "    index_of_plays_for_this_game = index_of_plays_for_this_game[index_of_plays_for_this_game >= first_play]\n",
    "    for j in range(0, len(index_of_plays_for_this_game)):\n",
    "        individual_play_row = plays_wanted.loc[plays_wanted['playId'] == index_of_plays_for_this_game[j]]\n",
    "        current_team_winning = individual_play_row['TeamWinning']\n",
    "        if current_team_winning.values[0] != team_winning_initially: # if the losing team comes back\n",
    "            count = count + 1\n",
    "    if count > 0:\n",
    "        if team_winning_initially == first_row['teamWin']: # if the losing team came back but the original team won the game\n",
    "            change_to_blown.append(gameIds[i])\n",
    "for i in change_to_blown:\n",
    "    final.loc[(i),'heldOrBlown'] = 'blown'"
   ]
  },
  {
   "cell_type": "markdown",
   "metadata": {
    "id": "Lwa43RM3Vi-G",
    "papermill": {
     "duration": 0.026186,
     "end_time": "2021-01-05T19:26:24.589923",
     "exception": false,
     "start_time": "2021-01-05T19:26:24.563737",
     "status": "completed"
    },
    "tags": []
   },
   "source": [
    "#### Define two new dataframes (held and blown) that represent games where teams held their lead and games where teams blew there lead"
   ]
  },
  {
   "cell_type": "code",
   "execution_count": 8,
   "metadata": {
    "execution": {
     "iopub.execute_input": "2021-01-05T19:26:24.669612Z",
     "iopub.status.busy": "2021-01-05T19:26:24.668497Z",
     "iopub.status.idle": "2021-01-05T19:26:24.682649Z",
     "shell.execute_reply": "2021-01-05T19:26:24.683180Z"
    },
    "id": "SMnwNOanViGe",
    "papermill": {
     "duration": 0.058135,
     "end_time": "2021-01-05T19:26:24.683355",
     "exception": false,
     "start_time": "2021-01-05T19:26:24.625220",
     "status": "completed"
    },
    "tags": []
   },
   "outputs": [],
   "source": [
    "held = final[final['heldOrBlown'] == 'held'].reset_index() \n",
    "blown = final[final['heldOrBlown'] == 'blown'].reset_index()"
   ]
  },
  {
   "cell_type": "code",
   "execution_count": 9,
   "metadata": {
    "execution": {
     "iopub.execute_input": "2021-01-05T19:26:24.745606Z",
     "iopub.status.busy": "2021-01-05T19:26:24.744795Z",
     "iopub.status.idle": "2021-01-05T19:26:25.264738Z",
     "shell.execute_reply": "2021-01-05T19:26:25.265291Z"
    },
    "id": "3iaQfAI1Jdx9",
    "outputId": "c2928273-a608-4952-8a1a-a28fce910b32",
    "papermill": {
     "duration": 0.557151,
     "end_time": "2021-01-05T19:26:25.265476",
     "exception": false,
     "start_time": "2021-01-05T19:26:24.708325",
     "status": "completed"
    },
    "tags": []
   },
   "outputs": [
    {
     "data": {
      "image/png": "[encoded data removed]",
      "text/plain": [
       "<Figure size 432x288 with 1 Axes>"
      ]
     },
     "metadata": {},
     "output_type": "display_data"
    }
   ],
   "source": [
    "sns.scatterplot('defendersInTheBox','offensePlayResult',hue='heldOrBlown',data=final)\n",
    "plt.show()"
   ]
  },
  {
   "cell_type": "code",
   "execution_count": 10,
   "metadata": {
    "execution": {
     "iopub.execute_input": "2021-01-05T19:26:25.320608Z",
     "iopub.status.busy": "2021-01-05T19:26:25.319446Z",
     "iopub.status.idle": "2021-01-05T19:26:25.748970Z",
     "shell.execute_reply": "2021-01-05T19:26:25.748261Z"
    },
    "id": "RcsmZLRwJf12",
    "outputId": "b04537d4-9bd1-493a-b23d-b618ab55da74",
    "papermill": {
     "duration": 0.459214,
     "end_time": "2021-01-05T19:26:25.749125",
     "exception": false,
     "start_time": "2021-01-05T19:26:25.289911",
     "status": "completed"
    },
    "tags": []
   },
   "outputs": [
    {
     "data": {
      "image/png": "[encoded data removed]",
      "text/plain": [
       "<Figure size 432x288 with 1 Axes>"
      ]
     },
     "metadata": {},
     "output_type": "display_data"
    }
   ],
   "source": [
    "sns.scatterplot('numberOfPassRushers','defendersInTheBox',hue='heldOrBlown',data=final)\n",
    "plt.show()"
   ]
  },
  {
   "cell_type": "markdown",
   "metadata": {
    "id": "RtuPXmMySp95",
    "papermill": {
     "duration": 0.026305,
     "end_time": "2021-01-05T19:26:25.802811",
     "exception": false,
     "start_time": "2021-01-05T19:26:25.776506",
     "status": "completed"
    },
    "tags": []
   },
   "source": [
    "## **Data Analysis**\n",
    "#### Define functions that give the percentage of pass rush selections per game and DataFrame"
   ]
  },
  {
   "cell_type": "code",
   "execution_count": 11,
   "metadata": {
    "execution": {
     "iopub.execute_input": "2021-01-05T19:26:25.865758Z",
     "iopub.status.busy": "2021-01-05T19:26:25.863820Z",
     "iopub.status.idle": "2021-01-05T19:26:25.871274Z",
     "shell.execute_reply": "2021-01-05T19:26:25.870366Z"
    },
    "id": "KfIJ9pD4Mg_q",
    "papermill": {
     "duration": 0.044616,
     "end_time": "2021-01-05T19:26:25.871425",
     "exception": false,
     "start_time": "2021-01-05T19:26:25.826809",
     "status": "completed"
    },
    "tags": []
   },
   "outputs": [],
   "source": [
    "# each index of the array reprensents number of pass rushers\n",
    "normal = final.reset_index()\n",
    "def percentOfPassRushersPerGame(gameid, df):\n",
    "    pass_rushers = np.array(df[df['gameId'] == gameid]['numberOfPassRushers'])\n",
    "    number_of_plays = len(pass_rushers)\n",
    "    pass_rush_list = []\n",
    "    for i in range(0, 8):\n",
    "        pass_rush_list.append(len(pass_rushers[pass_rushers == i]) / number_of_plays)\n",
    "    return np.array(pass_rush_list)\n",
    "\n",
    "def percentOfPassRushersByDataFrame(dataframe, df):\n",
    "    final_array = np.zeros(8)\n",
    "    game_ids = np.unique(dataframe['gameId'])\n",
    "    for i in range(0, len(game_ids)):\n",
    "        final_array = final_array + percentOfPassRushersPerGame(game_ids[i], df)\n",
    "    final_array = final_array / len(game_ids)\n",
    "    return final_array\n",
    "\n"
   ]
  },
  {
   "cell_type": "markdown",
   "metadata": {
    "id": "C0Gi0dbXhDzL",
    "papermill": {
     "duration": 0.024386,
     "end_time": "2021-01-05T19:26:25.920827",
     "exception": false,
     "start_time": "2021-01-05T19:26:25.896441",
     "status": "completed"
    },
    "tags": []
   },
   "source": [
    "#### Define a function that gives the average number of pass rushers per game by DataFrame"
   ]
  },
  {
   "cell_type": "code",
   "execution_count": 12,
   "metadata": {
    "execution": {
     "iopub.execute_input": "2021-01-05T19:26:25.979396Z",
     "iopub.status.busy": "2021-01-05T19:26:25.978514Z",
     "iopub.status.idle": "2021-01-05T19:26:25.981832Z",
     "shell.execute_reply": "2021-01-05T19:26:25.981040Z"
    },
    "id": "JaJqO7oXhIv8",
    "papermill": {
     "duration": 0.036384,
     "end_time": "2021-01-05T19:26:25.981963",
     "exception": false,
     "start_time": "2021-01-05T19:26:25.945579",
     "status": "completed"
    },
    "tags": []
   },
   "outputs": [],
   "source": [
    "def averagePassRushersPerGameByDF(dataframe, df):\n",
    "    lister = []\n",
    "    game_ids = np.unique(dataframe['gameId'])\n",
    "    for i in range(0, len(game_ids)):\n",
    "        percents = percentOfPassRushersPerGame(game_ids[i], df)\n",
    "        average = 0\n",
    "        for i in range(0, 8):\n",
    "            average = average + (percents[i] * i)\n",
    "        lister.append(average)\n",
    "    return np.array(lister)"
   ]
  },
  {
   "cell_type": "markdown",
   "metadata": {
    "id": "TJQ2kBbtUs3s",
    "papermill": {
     "duration": 0.024321,
     "end_time": "2021-01-05T19:26:26.031644",
     "exception": false,
     "start_time": "2021-01-05T19:26:26.007323",
     "status": "completed"
    },
    "tags": []
   },
   "source": [
    "#### Compute a T-test on the average number of pass rushers for held-lead games and blown-lead games"
   ]
  },
  {
   "cell_type": "code",
   "execution_count": 13,
   "metadata": {
    "execution": {
     "iopub.execute_input": "2021-01-05T19:26:26.158237Z",
     "iopub.status.busy": "2021-01-05T19:26:26.157220Z",
     "iopub.status.idle": "2021-01-05T19:26:26.162199Z",
     "shell.execute_reply": "2021-01-05T19:26:26.161605Z"
    },
    "id": "Xh4EvkcXiUPQ",
    "outputId": "b08c0c59-1a89-473e-cceb-07f6f82d5d13",
    "papermill": {
     "duration": 0.10524,
     "end_time": "2021-01-05T19:26:26.162325",
     "exception": false,
     "start_time": "2021-01-05T19:26:26.057085",
     "status": "completed"
    },
    "tags": []
   },
   "outputs": [
    {
     "data": {
      "text/plain": [
       "Ttest_indResult(statistic=-1.3776985108944957, pvalue=0.1733460561022602)"
      ]
     },
     "execution_count": 13,
     "metadata": {},
     "output_type": "execute_result"
    }
   ],
   "source": [
    "held_average = averagePassRushersPerGameByDF(held, normal)\n",
    "blown_average = averagePassRushersPerGameByDF(blown, normal)\n",
    "stats.ttest_ind(held_average, blown_average, equal_var=False)"
   ]
  },
  {
   "cell_type": "markdown",
   "metadata": {
    "id": "rLf_F3NugnzM",
    "papermill": {
     "duration": 0.024567,
     "end_time": "2021-01-05T19:26:26.212091",
     "exception": false,
     "start_time": "2021-01-05T19:26:26.187524",
     "status": "completed"
    },
    "tags": []
   },
   "source": [
    "#### Define a function that gives the average number of defenders in the box per game by DataFrame"
   ]
  },
  {
   "cell_type": "code",
   "execution_count": 14,
   "metadata": {
    "execution": {
     "iopub.execute_input": "2021-01-05T19:26:26.272027Z",
     "iopub.status.busy": "2021-01-05T19:26:26.270985Z",
     "iopub.status.idle": "2021-01-05T19:26:26.274926Z",
     "shell.execute_reply": "2021-01-05T19:26:26.274272Z"
    },
    "id": "gr6_kCn7GWqC",
    "papermill": {
     "duration": 0.037708,
     "end_time": "2021-01-05T19:26:26.275048",
     "exception": false,
     "start_time": "2021-01-05T19:26:26.237340",
     "status": "completed"
    },
    "tags": []
   },
   "outputs": [],
   "source": [
    "def averageDefendersInTheBoxPerGameByDF(dataframe):\n",
    "    lister = []\n",
    "    gameids = np.unique(dataframe['gameId'])\n",
    "    for i in range(0, len(gameids)):\n",
    "        average_defenders_in_box = dataframe[dataframe['gameId'] == gameids[i]]['defendersInTheBox'].mean()\n",
    "        lister.append(average_defenders_in_box)\n",
    "    return(np.array(lister))"
   ]
  },
  {
   "cell_type": "markdown",
   "metadata": {
    "id": "bsegbyMgVQAN",
    "papermill": {
     "duration": 0.024528,
     "end_time": "2021-01-05T19:26:26.325429",
     "exception": false,
     "start_time": "2021-01-05T19:26:26.300901",
     "status": "completed"
    },
    "tags": []
   },
   "source": [
    "#### Compute a T-test on the average number of defenders in the box for held-lead games and blown-lead games"
   ]
  },
  {
   "cell_type": "code",
   "execution_count": 15,
   "metadata": {
    "execution": {
     "iopub.execute_input": "2021-01-05T19:26:26.448066Z",
     "iopub.status.busy": "2021-01-05T19:26:26.447089Z",
     "iopub.status.idle": "2021-01-05T19:26:26.452455Z",
     "shell.execute_reply": "2021-01-05T19:26:26.451871Z"
    },
    "id": "z9ZTcAMsY8xh",
    "outputId": "c39f3d9a-397c-45ea-f422-e481f4c0a80e",
    "papermill": {
     "duration": 0.102147,
     "end_time": "2021-01-05T19:26:26.452597",
     "exception": false,
     "start_time": "2021-01-05T19:26:26.350450",
     "status": "completed"
    },
    "tags": []
   },
   "outputs": [
    {
     "data": {
      "text/plain": [
       "Ttest_indResult(statistic=-1.3203713697584811, pvalue=0.19093449980623514)"
      ]
     },
     "execution_count": 15,
     "metadata": {},
     "output_type": "execute_result"
    }
   ],
   "source": [
    "held_defenders_in_box = averageDefendersInTheBoxPerGameByDF(held)\n",
    "blown_defenders_in_box = averageDefendersInTheBoxPerGameByDF(blown)\n",
    "stats.ttest_ind(held_defenders_in_box, blown_defenders_in_box, equal_var=False)"
   ]
  },
  {
   "cell_type": "markdown",
   "metadata": {
    "id": "4W6ryiRhg8EP",
    "papermill": {
     "duration": 0.025863,
     "end_time": "2021-01-05T19:26:26.505482",
     "exception": false,
     "start_time": "2021-01-05T19:26:26.479619",
     "status": "completed"
    },
    "tags": []
   },
   "source": [
    "#### Create a new DataFrame (plays2) of the sames games in final, but with the defensive plays from the winning team (at the beginning of final) that do not qualify to be represented in final"
   ]
  },
  {
   "cell_type": "code",
   "execution_count": 16,
   "metadata": {
    "execution": {
     "iopub.execute_input": "2021-01-05T19:26:26.572608Z",
     "iopub.status.busy": "2021-01-05T19:26:26.571864Z",
     "iopub.status.idle": "2021-01-05T19:26:57.605556Z",
     "shell.execute_reply": "2021-01-05T19:26:57.606435Z"
    },
    "id": "fF3FjpVXaWXg",
    "outputId": "5053f431-f9c9-4aa4-b4db-ed6e4c2d73e1",
    "papermill": {
     "duration": 31.075218,
     "end_time": "2021-01-05T19:26:57.606670",
     "exception": false,
     "start_time": "2021-01-05T19:26:26.531452",
     "status": "completed"
    },
    "tags": []
   },
   "outputs": [
    {
     "name": "stderr",
     "output_type": "stream",
     "text": [
      "/Users/kentoabeywardane/opt/anaconda3/lib/python3.7/site-packages/pandas/core/generic.py:3936: PerformanceWarning: dropping on a non-lexsorted multi-index without a level parameter may impact performance.\n",
      "  obj = obj._drop_axis(labels, axis, level=level, errors=errors)\n"
     ]
    }
   ],
   "source": [
    "antifinal_plays = plays.set_index(['gameId','playId'])\n",
    "plays2 = plays.set_index(['gameId', 'playId'])\n",
    "for i in final.index.get_level_values(0).unique():\n",
    "    # drop all games that are represented in df=final\n",
    "    antifinal_plays.drop(index=i,axis=0,level=0,inplace=True)\n",
    "for i in antifinal_plays.index.get_level_values(0).unique():\n",
    "    # drop all games represented in df=antifinal from plays2\n",
    "    # this results in a df that has all the plays for games represented in df=final\n",
    "    plays2.drop(index=i,axis=0,inplace=True)\n",
    "for i in final.index.values:\n",
    "    # drop (gameid,playid) tuples that are found in final (plays2 = every play not in df=final)\n",
    "    plays2.drop(index=i,axis=0,inplace=True)\n",
    "    \n",
    "plays2.reset_index(inplace=True)\n",
    "# add column w the team that won to df\n",
    "plays2['teamWin'] = plays2['gameId'].apply(finalscoretoW)\n",
    "\n",
    "# make a df of all unique gameId,possessionTeam combinations from final\n",
    "# this gets us the defensive possesions of the team that was winning from final\n",
    "unique_gamepos = list(dict.fromkeys(list(zip(final.reset_index()['gameId'], final['possessionTeam']))))\n",
    "unique_gameposdf = pd.DataFrame(unique_gamepos).set_index(0)\n",
    "for i in np.arange(0,len(plays2)):\n",
    "    # drop the row if the team on defense is not the same as the one in final \n",
    "    if plays2.loc[i]['possessionTeam'] != unique_gameposdf.loc[plays2.loc[i]['gameId']].values[0]:\n",
    "        plays2.drop(index=i,axis=0,inplace=True)\n",
    "plays2.reset_index(drop=True,inplace=True)"
   ]
  },
  {
   "cell_type": "markdown",
   "metadata": {
    "id": "0kdZ3nGlWuek",
    "papermill": {
     "duration": 0.037736,
     "end_time": "2021-01-05T19:26:57.685771",
     "exception": false,
     "start_time": "2021-01-05T19:26:57.648035",
     "status": "completed"
    },
    "tags": []
   },
   "source": [
    "#### Add a column (heldOrBlown) to plays2"
   ]
  },
  {
   "cell_type": "code",
   "execution_count": 17,
   "metadata": {
    "execution": {
     "iopub.execute_input": "2021-01-05T19:26:57.758868Z",
     "iopub.status.busy": "2021-01-05T19:26:57.757827Z",
     "iopub.status.idle": "2021-01-05T19:26:58.043610Z",
     "shell.execute_reply": "2021-01-05T19:26:58.044140Z"
    },
    "id": "1gzEBN-yaXXK",
    "papermill": {
     "duration": 0.328222,
     "end_time": "2021-01-05T19:26:58.044319",
     "exception": false,
     "start_time": "2021-01-05T19:26:57.716097",
     "status": "completed"
    },
    "tags": []
   },
   "outputs": [],
   "source": [
    "# make a df of all unique gameId,held/blown combinations from final\n",
    "gameid_heldblown = pd.DataFrame(list(dict.fromkeys(list(zip(final.reset_index()['gameId'], final['heldOrBlown']))))).set_index(0)\n",
    "\n",
    "def gameidtoHB(i):\n",
    "    \"\"\"input a gameId and return whether the leading team held or blew the lead\"\"\"\n",
    "    return gameid_heldblown.loc[i].values[0]\n",
    "\n",
    "plays2['heldOrBlown'] = plays2['gameId'].apply(gameidtoHB)"
   ]
  },
  {
   "cell_type": "markdown",
   "metadata": {
    "id": "Fb73_z_0W7Jb",
    "papermill": {
     "duration": 0.027538,
     "end_time": "2021-01-05T19:26:58.098390",
     "exception": false,
     "start_time": "2021-01-05T19:26:58.070852",
     "status": "completed"
    },
    "tags": []
   },
   "source": [
    "#### Find the average number of pass rushers for plays2 split by held or blown lead games"
   ]
  },
  {
   "cell_type": "code",
   "execution_count": 18,
   "metadata": {
    "execution": {
     "iopub.execute_input": "2021-01-05T19:26:58.157166Z",
     "iopub.status.busy": "2021-01-05T19:26:58.156415Z",
     "iopub.status.idle": "2021-01-05T19:26:58.247546Z",
     "shell.execute_reply": "2021-01-05T19:26:58.246883Z"
    },
    "id": "pkchx1Zxa35o",
    "outputId": "1969a183-38d2-42b7-aaa8-4b235f84c164",
    "papermill": {
     "duration": 0.120655,
     "end_time": "2021-01-05T19:26:58.247692",
     "exception": false,
     "start_time": "2021-01-05T19:26:58.127037",
     "status": "completed"
    },
    "tags": []
   },
   "outputs": [
    {
     "name": "stdout",
     "output_type": "stream",
     "text": [
      "4.070694699662195 4.095852870758585\n"
     ]
    }
   ],
   "source": [
    "# get df's only where teams held or blew the lead\n",
    "held2 = plays2[plays2['heldOrBlown'] == 'held'].reset_index()\n",
    "blown2 = plays2[plays2['heldOrBlown'] == 'blown'].reset_index()\n",
    "\n",
    "# use percentOfPassRushersByDataFrame function\n",
    "held_lead_pass_rushers2 = pd.Series(percentOfPassRushersByDataFrame(held2, plays2))\n",
    "blown_lead_pass_rushers2 = pd.Series(percentOfPassRushersByDataFrame(blown2, plays2))\n",
    "\n",
    "# get average # of passrushers for teams that held the lead prior to a lead with under 4 min to go\n",
    "average_held_lead_pass_rushers2 = 0\n",
    "for i in range(0, 8):\n",
    "    average_held_lead_pass_rushers2 = average_held_lead_pass_rushers2 + (held_lead_pass_rushers2[i] * i)\n",
    "\n",
    "# get average # of passrushers for teams that blew the lead prior to a lead with under 4 min to go\n",
    "average_blown_lead_pass_rushers2 = 0\n",
    "for i in range(0, 8):\n",
    "    average_blown_lead_pass_rushers2 = average_blown_lead_pass_rushers2 + (blown_lead_pass_rushers2[i] * i)\n",
    "print(average_held_lead_pass_rushers2, average_blown_lead_pass_rushers2)"
   ]
  }
 ],
 "metadata": {
  "kernelspec": {
   "display_name": "Python 3",
   "language": "python",
   "name": "python3"
  },
  "language_info": {
   "codemirror_mode": {
    "name": "ipython",
    "version": 3
   },
   "file_extension": ".py",
   "mimetype": "text/x-python",
   "name": "python",
   "nbconvert_exporter": "python",
   "pygments_lexer": "ipython3",
   "version": "3.7.6"
  },
  "papermill": {
   "duration": 64.956123,
   "end_time": "2021-01-05T19:26:58.385331",
   "environment_variables": {},
   "exception": null,
   "input_path": "__notebook__.ipynb",
   "output_path": "__notebook__.ipynb",
   "parameters": {},
   "start_time": "2021-01-05T19:25:53.429208",
   "version": "2.1.0"
  }
 },
 "nbformat": 4,
 "nbformat_minor": 4
}
